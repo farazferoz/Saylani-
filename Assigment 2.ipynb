{
 "cells": [
  {
   "cell_type": "code",
   "execution_count": null,
   "id": "df27f7a0",
   "metadata": {},
   "outputs": [
    {
     "name": "stdout",
     "output_type": "stream",
     "text": [
      "Enter the number of voters participating: 2\n",
      "\n",
      "Voter 1\n",
      "\n",
      "Employee of the Year Nominees:\n",
      "1. Candidate A\n",
      "2. Candidate B\n",
      "3. Candidate C\n"
     ]
    }
   ],
   "source": [
    "candidates = {\n",
    "    'Employee of the Year': ['Candidate A', 'Candidate B', 'Candidate C'],\n",
    "    'Team Player of the Year': ['Candidate A', 'Candidate B', 'Candidate C'],\n",
    "    'Innovation Award': ['Candidate A', 'Candidate B', 'Candidate C']\n",
    "}\n",
    "\n",
    "votes = {category: {candidate: 0 for candidate in candidates[category]} for category in candidates}\n",
    "\n",
    "num_voters = int(input(\"Enter the number of voters participating: \"))\n",
    "\n",
    "for _ in range(num_voters):\n",
    "    print(\"\\nVoter\", _ + 1)\n",
    "    for category, nominee_list in candidates.items():\n",
    "        print(f\"\\n{category} Nominees:\")\n",
    "        for i, nominee in enumerate(nominee_list, 1):\n",
    "            print(f\"{i}. {nominee}\")\n",
    " \n",
    "        while True:\n",
    "            try:\n",
    "                vote = int(input(f\"Enter your vote for {category} (1-{len(nominee_list)}): \"))\n",
    "                if 1 <= vote <= len(nominee_list):\n",
    "                    votes[category][nominee_list[vote - 1]] += 1\n",
    "                    print(\"Vote recorded!\\n\")\n",
    "                    break\n",
    "                else:\n",
    "                    print(\"Invalid vote. Please choose a valid candidate.\\n\")\n",
    "            except ValueError:\n",
    "                print(\"Invalid input. Please enter a number.\\n\")\n",
    "\n",
    "print(\"\\nVoting Results:\")\n",
    "for category, vote_count in votes.items():\n",
    "    print(f\"\\n{category} Results:\")\n",
    "    for candidate, count in vote_count.items():\n",
    "        print(f\"{candidate}: {count} votes\")\n",
    "\n",
    "winners = {category: max(vote_count, key=vote_count.get) for category, vote_count in votes.items()}\n",
    "\n",
    "print(\"\\nAward Winners:\")\n",
    "for category, winner in winners.items():\n",
    "    print(f\"{category}: {winner}\")\n"
   ]
  },
  {
   "cell_type": "code",
   "execution_count": null,
   "id": "cd836abd",
   "metadata": {},
   "outputs": [],
   "source": [
    "def check_password_strength(password):\n",
    "    if len(password) < 8:\n",
    "        return \"Weak: Password should be at least 8 characters long.\"\n",
    "\n",
    "    has_digit = any(char.isdigit() for char in password)\n",
    "    has_letter = any(char.isalpha() for char in password)\n",
    "\n",
    "    if not has_digit:\n",
    "        return \"Weak: Password should contain at least one digit.\"\n",
    "    elif not has_letter:\n",
    "        return \"Weak: Password should contain at least one letter.\"\n",
    "    else:\n",
    "        return \"Strong: Password meets the criteria.\"\n",
    "password = input(\"Enter your password: \")\n",
    "result = check_password_strength(password)\n",
    "print(result)"
   ]
  },
  {
   "cell_type": "code",
   "execution_count": 1,
   "id": "b9aaced7",
   "metadata": {},
   "outputs": [
    {
     "name": "stdout",
     "output_type": "stream",
     "text": [
      "{'apple': 3, 'banana': 2, 'orange': 1, 'grape': 1}\n"
     ]
    }
   ],
   "source": [
    "word_list = [\"apple\", \"banana\", \"apple\", \"orange\", \"banana\", \"grape\", \"apple\"]\n",
    "\n",
    "word_frequency = {}\n",
    "for word in word_list:\n",
    "    if word in word_frequency:\n",
    "        word_frequency[word] += 1\n",
    "    else:\n",
    "        word_frequency[word] = 1\n",
    "\n",
    "print(word_frequency)"
   ]
  },
  {
   "cell_type": "code",
   "execution_count": 4,
   "id": "16b4c67e",
   "metadata": {},
   "outputs": [
    {
     "name": "stdout",
     "output_type": "stream",
     "text": [
      "The average grade is: 87.6\n"
     ]
    }
   ],
   "source": [
    "student_grades = {\"Student1\": 85, \"Student2\": 92, \"Student3\": 78, \"Student4\": 88, \"Student5\": 95}\n",
    "total_grades = sum(student_grades.values())\n",
    "number_of_students = len(student_grades)\n",
    "average_grade = total_grades / number_of_students\n",
    "\n",
    "print(f\"The average grade is: {average_grade}\")"
   ]
  },
  {
   "cell_type": "code",
   "execution_count": 3,
   "id": "71a3ea0d",
   "metadata": {},
   "outputs": [
    {
     "name": "stdout",
     "output_type": "stream",
     "text": [
      "Apples added to the shopping list.\n",
      "Bread added to the shopping list.\n",
      "Milk added to the shopping list.\n",
      "Current Shopping List:\n",
      "- Apples\n",
      "- Bread\n",
      "- Milk\n",
      "Bread removed from the shopping list.\n",
      "Current Shopping List:\n",
      "- Apples\n",
      "- Milk\n"
     ]
    }
   ],
   "source": [
    "class GroceryList:\n",
    "    def __init__(self):\n",
    "        self.shopping_list = []\n",
    "\n",
    "    def add_item(self, item):\n",
    "        self.shopping_list.append(item)\n",
    "        print(f\"{item} added to the shopping list.\")\n",
    "\n",
    "    def remove_item(self, item):\n",
    "        if item in self.shopping_list:\n",
    "            self.shopping_list.remove(item)\n",
    "            print(f\"{item} removed from the shopping list.\")\n",
    "        else:\n",
    "            print(f\"{item} not found in the shopping list.\")\n",
    "\n",
    "    def display_list(self):\n",
    "        if self.shopping_list:\n",
    "            print(\"Current Shopping List:\")\n",
    "            for item in self.shopping_list:\n",
    "                print(f\"- {item}\")\n",
    "        else:\n",
    "            print(\"The shopping list is empty.\")\n",
    "\n",
    "grocery_list = GroceryList()\n",
    "\n",
    "grocery_list.add_item(\"Apples\")\n",
    "grocery_list.add_item(\"Bread\")\n",
    "grocery_list.add_item(\"Milk\")\n",
    "\n",
    "grocery_list.display_list()\n",
    "\n",
    "grocery_list.remove_item(\"Bread\")\n",
    "\n",
    "grocery_list.display_list()"
   ]
  },
  {
   "cell_type": "code",
   "execution_count": null,
   "id": "96118ac7",
   "metadata": {},
   "outputs": [],
   "source": []
  }
 ],
 "metadata": {
  "kernelspec": {
   "display_name": "Python 3 (ipykernel)",
   "language": "python",
   "name": "python3"
  },
  "language_info": {
   "codemirror_mode": {
    "name": "ipython",
    "version": 3
   },
   "file_extension": ".py",
   "mimetype": "text/x-python",
   "name": "python",
   "nbconvert_exporter": "python",
   "pygments_lexer": "ipython3",
   "version": "3.11.5"
  }
 },
 "nbformat": 4,
 "nbformat_minor": 5
}
